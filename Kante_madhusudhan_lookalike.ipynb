{
 "cells": [
  {
   "cell_type": "code",
   "execution_count": 11,
   "id": "f662f548-f10b-4cb3-b540-980aa235a9d7",
   "metadata": {},
   "outputs": [],
   "source": [
    "import numpy as np\n",
    "import pandas as pd"
   ]
  },
  {
   "cell_type": "code",
   "execution_count": 2,
   "id": "a874f7d9-7fa3-4bb1-8f74-35bc4c9affb9",
   "metadata": {},
   "outputs": [],
   "source": [
    "customers=pd.read_csv('Downloads/ze/Customers.csv')"
   ]
  },
  {
   "cell_type": "code",
   "execution_count": 3,
   "id": "db7a4c43-37ca-4c47-8a55-7b2bb9256604",
   "metadata": {},
   "outputs": [
    {
     "name": "stdout",
     "output_type": "stream",
     "text": [
      "<class 'pandas.core.frame.DataFrame'>\n",
      "RangeIndex: 200 entries, 0 to 199\n",
      "Data columns (total 4 columns):\n",
      " #   Column        Non-Null Count  Dtype \n",
      "---  ------        --------------  ----- \n",
      " 0   CustomerID    200 non-null    object\n",
      " 1   CustomerName  200 non-null    object\n",
      " 2   Region        200 non-null    object\n",
      " 3   SignupDate    200 non-null    object\n",
      "dtypes: object(4)\n",
      "memory usage: 6.4+ KB\n"
     ]
    }
   ],
   "source": [
    "customers.info()"
   ]
  },
  {
   "cell_type": "code",
   "execution_count": 4,
   "id": "4e36c040-f99d-430d-9b8a-05153dbf8afc",
   "metadata": {},
   "outputs": [],
   "source": [
    "products=pd.read_csv('Downloads/ze/Products.csv')"
   ]
  },
  {
   "cell_type": "code",
   "execution_count": 5,
   "id": "2922a1ba-8216-4a18-8cbe-6ea3fd0c1445",
   "metadata": {},
   "outputs": [],
   "source": [
    "Transactions=pd.read_csv('Downloads/ze/Transactions.csv')"
   ]
  },
  {
   "cell_type": "code",
   "execution_count": 6,
   "id": "bf381369-f366-410e-b917-43847117b073",
   "metadata": {},
   "outputs": [],
   "source": [
    "merged_data = Transactions.merge(customers, on='CustomerID').merge(products, on='ProductID')"
   ]
  },
  {
   "cell_type": "code",
   "execution_count": 7,
   "id": "27ef0725-2636-4beb-94c9-0343a5182130",
   "metadata": {},
   "outputs": [],
   "source": [
    "from sklearn.metrics.pairwise import cosine_similarity"
   ]
  },
  {
   "cell_type": "code",
   "execution_count": 9,
   "id": "178e9075-ef69-43a3-815d-5133aeaf3439",
   "metadata": {},
   "outputs": [],
   "source": [
    "customer_features = merged_data.groupby('CustomerID').agg({\n",
    "    'TotalValue': 'sum',  \n",
    "    'Quantity': 'sum',    \n",
    "    'Region': 'first',    \n",
    "}).reset_index()\n",
    "customer_features = pd.get_dummies(customer_features, columns=['Region'], drop_first=True)\n",
    "features = customer_features.drop(columns=['CustomerID']).values\n",
    "similarity_matrix = cosine_similarity(features)\n",
    "lookalike_results = {}"
   ]
  },
  {
   "cell_type": "code",
   "execution_count": 12,
   "id": "0cfc0437-9d10-4c06-a003-2c5a605334c8",
   "metadata": {},
   "outputs": [],
   "source": [
    "lookalike_results = {}\n",
    "for i in range(20):  \n",
    "    similar_indices = np.argsort(-similarity_matrix[i])[1:4]\n",
    "    similar_customers = customer_features.iloc[similar_indices]['CustomerID']\n",
    "    scores = similarity_matrix[i][similar_indices]\n",
    "    lookalike_results[customer_features.iloc[i]['CustomerID']] = list(zip(similar_customers, scores))"
   ]
  },
  {
   "cell_type": "code",
   "execution_count": 17,
   "id": "54ab8607-2385-4e02-ba62-144c9c8a8630",
   "metadata": {},
   "outputs": [],
   "source": [
    "lookalike_df = pd.DataFrame([\n",
    "    {'CustomerID': cust_id, \n",
    "     'Lookalikes': str(lookalikes)} \n",
    "    for cust_id, lookalikes in lookalike_results.items()\n",
    "])\n",
    "lookalike_df.to_csv('Lookalike.csv', index=False)"
   ]
  },
  {
   "cell_type": "code",
   "execution_count": 18,
   "id": "7c2c3268-1431-4a28-ac78-9b2bf8e02adb",
   "metadata": {},
   "outputs": [],
   "source": [
    "lookalike_df = pd.DataFrame.from_dict(lookalike_results, orient='index')\n",
    "lookalike_df.to_csv('Lookalike.csv', header=False)"
   ]
  },
  {
   "cell_type": "code",
   "execution_count": 19,
   "id": "690875c6-af70-47d8-9a62-afd6b8f71a9a",
   "metadata": {},
   "outputs": [
    {
     "name": "stdout",
     "output_type": "stream",
     "text": [
      "Lookalike Model Output:\n"
     ]
    },
    {
     "data": {
      "text/html": [
       "<div>\n",
       "<style scoped>\n",
       "    .dataframe tbody tr th:only-of-type {\n",
       "        vertical-align: middle;\n",
       "    }\n",
       "\n",
       "    .dataframe tbody tr th {\n",
       "        vertical-align: top;\n",
       "    }\n",
       "\n",
       "    .dataframe thead th {\n",
       "        text-align: right;\n",
       "    }\n",
       "</style>\n",
       "<table border=\"1\" class=\"dataframe\">\n",
       "  <thead>\n",
       "    <tr style=\"text-align: right;\">\n",
       "      <th></th>\n",
       "      <th>0</th>\n",
       "      <th>1</th>\n",
       "      <th>2</th>\n",
       "    </tr>\n",
       "  </thead>\n",
       "  <tbody>\n",
       "    <tr>\n",
       "      <th>C0001</th>\n",
       "      <td>(C0153, 0.9999999961694737)</td>\n",
       "      <td>(C0011, 0.9999999953170958)</td>\n",
       "      <td>(C0191, 0.9999999951500694)</td>\n",
       "    </tr>\n",
       "    <tr>\n",
       "      <th>C0002</th>\n",
       "      <td>(C0043, 0.9999999978943409)</td>\n",
       "      <td>(C0034, 0.9999999337353555)</td>\n",
       "      <td>(C0003, 0.9999999058828556)</td>\n",
       "    </tr>\n",
       "    <tr>\n",
       "      <th>C0003</th>\n",
       "      <td>(C0031, 0.9999999800265182)</td>\n",
       "      <td>(C0025, 0.9999999601601218)</td>\n",
       "      <td>(C0071, 0.9999999300373303)</td>\n",
       "    </tr>\n",
       "    <tr>\n",
       "      <th>C0004</th>\n",
       "      <td>(C0039, 0.9999999975700483)</td>\n",
       "      <td>(C0195, 0.9999999946665435)</td>\n",
       "      <td>(C0169, 0.9999999926262992)</td>\n",
       "    </tr>\n",
       "    <tr>\n",
       "      <th>C0005</th>\n",
       "      <td>(C0173, 0.9999999999970868)</td>\n",
       "      <td>(C0145, 0.9999999997034683)</td>\n",
       "      <td>(C0143, 0.9999999994532175)</td>\n",
       "    </tr>\n",
       "    <tr>\n",
       "      <th>C0006</th>\n",
       "      <td>(C0126, 0.9999999998071625)</td>\n",
       "      <td>(C0171, 0.9999999961651772)</td>\n",
       "      <td>(C0118, 0.9999999958529029)</td>\n",
       "    </tr>\n",
       "    <tr>\n",
       "      <th>C0007</th>\n",
       "      <td>(C0146, 0.9999999999408112)</td>\n",
       "      <td>(C0021, 0.9999999993668264)</td>\n",
       "      <td>(C0138, 0.9999999974920598)</td>\n",
       "    </tr>\n",
       "    <tr>\n",
       "      <th>C0008</th>\n",
       "      <td>(C0160, 0.9999999891068195)</td>\n",
       "      <td>(C0047, 0.9999999817205354)</td>\n",
       "      <td>(C0038, 0.9999999810851375)</td>\n",
       "    </tr>\n",
       "    <tr>\n",
       "      <th>C0009</th>\n",
       "      <td>(C0198, 0.9999999910572125)</td>\n",
       "      <td>(C0063, 0.9999998843464756)</td>\n",
       "      <td>(C0167, 0.9999997596785154)</td>\n",
       "    </tr>\n",
       "    <tr>\n",
       "      <th>C0010</th>\n",
       "      <td>(C0097, 0.9999997902154776)</td>\n",
       "      <td>(C0049, 0.9999996741872684)</td>\n",
       "      <td>(C0091, 0.9999995921568353)</td>\n",
       "    </tr>\n",
       "  </tbody>\n",
       "</table>\n",
       "</div>"
      ],
      "text/plain": [
       "                                 0                            1  \\\n",
       "C0001  (C0153, 0.9999999961694737)  (C0011, 0.9999999953170958)   \n",
       "C0002  (C0043, 0.9999999978943409)  (C0034, 0.9999999337353555)   \n",
       "C0003  (C0031, 0.9999999800265182)  (C0025, 0.9999999601601218)   \n",
       "C0004  (C0039, 0.9999999975700483)  (C0195, 0.9999999946665435)   \n",
       "C0005  (C0173, 0.9999999999970868)  (C0145, 0.9999999997034683)   \n",
       "C0006  (C0126, 0.9999999998071625)  (C0171, 0.9999999961651772)   \n",
       "C0007  (C0146, 0.9999999999408112)  (C0021, 0.9999999993668264)   \n",
       "C0008  (C0160, 0.9999999891068195)  (C0047, 0.9999999817205354)   \n",
       "C0009  (C0198, 0.9999999910572125)  (C0063, 0.9999998843464756)   \n",
       "C0010  (C0097, 0.9999997902154776)  (C0049, 0.9999996741872684)   \n",
       "\n",
       "                                 2  \n",
       "C0001  (C0191, 0.9999999951500694)  \n",
       "C0002  (C0003, 0.9999999058828556)  \n",
       "C0003  (C0071, 0.9999999300373303)  \n",
       "C0004  (C0169, 0.9999999926262992)  \n",
       "C0005  (C0143, 0.9999999994532175)  \n",
       "C0006  (C0118, 0.9999999958529029)  \n",
       "C0007  (C0138, 0.9999999974920598)  \n",
       "C0008  (C0038, 0.9999999810851375)  \n",
       "C0009  (C0167, 0.9999997596785154)  \n",
       "C0010  (C0091, 0.9999995921568353)  "
      ]
     },
     "execution_count": 19,
     "metadata": {},
     "output_type": "execute_result"
    }
   ],
   "source": [
    "print(\"Lookalike Model Output:\")\n",
    "lookalike_df.head(10)"
   ]
  },
  {
   "cell_type": "code",
   "execution_count": null,
   "id": "ff070d24-d4e7-4334-bf9b-2578057466b4",
   "metadata": {},
   "outputs": [],
   "source": []
  }
 ],
 "metadata": {
  "kernelspec": {
   "display_name": "Python 3 (ipykernel)",
   "language": "python",
   "name": "python3"
  },
  "language_info": {
   "codemirror_mode": {
    "name": "ipython",
    "version": 3
   },
   "file_extension": ".py",
   "mimetype": "text/x-python",
   "name": "python",
   "nbconvert_exporter": "python",
   "pygments_lexer": "ipython3",
   "version": "3.11.7"
  }
 },
 "nbformat": 4,
 "nbformat_minor": 5
}
